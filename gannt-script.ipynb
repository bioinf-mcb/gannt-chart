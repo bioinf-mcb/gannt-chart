{
 "cells": [
  {
   "cell_type": "code",
   "execution_count": 2,
   "id": "232ceaab",
   "metadata": {
    "scrolled": true
   },
   "outputs": [
    {
     "data": {
      "text/html": [
       "<div>\n",
       "<style scoped>\n",
       "    .dataframe tbody tr th:only-of-type {\n",
       "        vertical-align: middle;\n",
       "    }\n",
       "\n",
       "    .dataframe tbody tr th {\n",
       "        vertical-align: top;\n",
       "    }\n",
       "\n",
       "    .dataframe thead th {\n",
       "        text-align: right;\n",
       "    }\n",
       "</style>\n",
       "<table border=\"1\" class=\"dataframe\">\n",
       "  <thead>\n",
       "    <tr style=\"text-align: right;\">\n",
       "      <th></th>\n",
       "      <th>Task</th>\n",
       "      <th>Start</th>\n",
       "      <th>Finish</th>\n",
       "      <th>Type</th>\n",
       "      <th>Diff</th>\n",
       "    </tr>\n",
       "  </thead>\n",
       "  <tbody>\n",
       "    <tr>\n",
       "      <th>4</th>\n",
       "      <td>Manuscript preparation</td>\n",
       "      <td>2021-09-01</td>\n",
       "      <td>2022-02-01</td>\n",
       "      <td>C</td>\n",
       "      <td>153 days</td>\n",
       "    </tr>\n",
       "    <tr>\n",
       "      <th>6</th>\n",
       "      <td>Machine Learning Voodoo</td>\n",
       "      <td>2021-09-01</td>\n",
       "      <td>2021-10-01</td>\n",
       "      <td>B</td>\n",
       "      <td>30 days</td>\n",
       "    </tr>\n",
       "    <tr>\n",
       "      <th>3</th>\n",
       "      <td>Machine Learning Voodoo</td>\n",
       "      <td>2021-07-01</td>\n",
       "      <td>2021-08-01</td>\n",
       "      <td>B</td>\n",
       "      <td>31 days</td>\n",
       "    </tr>\n",
       "    <tr>\n",
       "      <th>2</th>\n",
       "      <td>Data analysis</td>\n",
       "      <td>2021-05-01</td>\n",
       "      <td>2021-09-01</td>\n",
       "      <td>B</td>\n",
       "      <td>123 days</td>\n",
       "    </tr>\n",
       "    <tr>\n",
       "      <th>1</th>\n",
       "      <td>Data preprocessing</td>\n",
       "      <td>2021-03-01</td>\n",
       "      <td>2021-05-01</td>\n",
       "      <td>A</td>\n",
       "      <td>61 days</td>\n",
       "    </tr>\n",
       "    <tr>\n",
       "      <th>0</th>\n",
       "      <td>Data collection</td>\n",
       "      <td>2021-01-01</td>\n",
       "      <td>2021-03-01</td>\n",
       "      <td>A</td>\n",
       "      <td>59 days</td>\n",
       "    </tr>\n",
       "    <tr>\n",
       "      <th>5</th>\n",
       "      <td>Drinking coffee</td>\n",
       "      <td>2021-01-01</td>\n",
       "      <td>2022-02-01</td>\n",
       "      <td>D</td>\n",
       "      <td>396 days</td>\n",
       "    </tr>\n",
       "  </tbody>\n",
       "</table>\n",
       "</div>"
      ],
      "text/plain": [
       "                      Task      Start     Finish Type     Diff\n",
       "4   Manuscript preparation 2021-09-01 2022-02-01    C 153 days\n",
       "6  Machine Learning Voodoo 2021-09-01 2021-10-01    B  30 days\n",
       "3  Machine Learning Voodoo 2021-07-01 2021-08-01    B  31 days\n",
       "2            Data analysis 2021-05-01 2021-09-01    B 123 days\n",
       "1       Data preprocessing 2021-03-01 2021-05-01    A  61 days\n",
       "0          Data collection 2021-01-01 2021-03-01    A  59 days\n",
       "5          Drinking coffee 2021-01-01 2022-02-01    D 396 days"
      ]
     },
     "execution_count": 2,
     "metadata": {},
     "output_type": "execute_result"
    }
   ],
   "source": [
    "import pandas as pd\n",
    "import matplotlib.pyplot as plt\n",
    "from matplotlib.dates import DateFormatter\n",
    "import matplotlib.dates as mdates\n",
    "\n",
    "date_columns = [\"Start\", \"Finish\"]\n",
    "df = pd.read_csv(\"gannt-file.csv\").sort_values(\"Start\", ascending=False)\n",
    "for col in date_columns:\n",
    "    df[col] = pd.to_datetime(df[col], dayfirst=True)\n",
    "df[\"Diff\"] = df.Finish - df.Start\n",
    "\n",
    "\n",
    "df"
   ]
  },
  {
   "cell_type": "code",
   "execution_count": 6,
   "id": "1a88f313",
   "metadata": {},
   "outputs": [
    {
     "data": {
      "image/png": "[encoded data removed]",
      "text/plain": [
       "<Figure size 720x720 with 1 Axes>"
      ]
     },
     "metadata": {
      "needs_background": "light"
     },
     "output_type": "display_data"
    }
   ],
   "source": [
    "color = {\"A\":\"darkgreen\", \n",
    "         \"B\":\"navy\", \n",
    "         \"C\":\"purple\",\n",
    "         \"D\":\"peru\"}\n",
    "fig,ax=plt.subplots(figsize=(10,10))\n",
    "\n",
    "labels=[]\n",
    "\n",
    "for i, task in enumerate(df.groupby(\"Task\", sort=False)):\n",
    "    labels.append(task[0])\n",
    "    for r in task[1].groupby(\"Type\"):\n",
    "        data = r[1][[\"Start\", \"Diff\"]]\n",
    "        ax.broken_barh(data.values, (i-0.4,0.8), color=color[r[0]])\n",
    "\n",
    "ax.set_yticks(range(len(labels)))\n",
    "ax.set_yticklabels(labels) \n",
    "ax.set_xlabel(\"Timeline\", fontsize=14)\n",
    "date_form = DateFormatter(\"%m-%Y\")\n",
    "locator = mdates.MonthLocator()\n",
    "\n",
    "ax.xaxis.set_major_formatter(date_form)\n",
    "ax.xaxis.set_major_locator(locator)\n",
    "\n",
    "plt.setp(ax.get_xticklabels(), rotation=60)\n",
    "\n",
    "ax.xaxis.grid()\n",
    "\n",
    "plt.tight_layout()       \n",
    "fig.savefig('gannt-chart.png', dpi=600)"
   ]
  },
  {
   "cell_type": "code",
   "execution_count": null,
   "id": "8ce2a651",
   "metadata": {},
   "outputs": [],
   "source": []
  }
 ],
 "metadata": {
  "kernelspec": {
   "display_name": "Python 3",
   "language": "python",
   "name": "python3"
  },
  "language_info": {
   "codemirror_mode": {
    "name": "ipython",
    "version": 3
   },
   "file_extension": ".py",
   "mimetype": "text/x-python",
   "name": "python",
   "nbconvert_exporter": "python",
   "pygments_lexer": "ipython3",
   "version": "3.8.5"
  }
 },
 "nbformat": 4,
 "nbformat_minor": 5
}
